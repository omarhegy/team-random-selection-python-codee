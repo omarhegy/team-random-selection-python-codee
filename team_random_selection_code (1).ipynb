{
  "cells": [
    {
      "cell_type": "markdown",
      "metadata": {
        "id": "NUN6UwBt4qfk"
      },
      "source": [
        "# Team Random Selection Code :)\n"
      ]
    },
    {
      "cell_type": "code",
      "execution_count": 1,
      "metadata": {
        "id": "6kiaNlFO4qfm"
      },
      "outputs": [],
      "source": [
        "import random\n",
        "\n",
        "# Define the four test lists\n",
        "level1_list = [1, 2, 3, 4]\n",
        "level2_list = ['a', 'b', 'c','d']\n",
        "level3_list = [99, 88, 77,66]\n",
        "level4_list = [\"1$\",\"2&\",\"3%\",\"4©\"]"
      ]
    },
    {
      "cell_type": "markdown",
      "metadata": {
        "id": "xZefl6Ny4qfo"
      },
      "source": [
        "Think about a code that help us to have random new mixed lists, each list should have one element from each level lists.\n",
        "\n",
        "Output may be like that following:\n",
        "```python\n",
        "team1 = [1, 'c', 88, '2&']\n",
        "team2 = [4, 'a', 99, '3%']\n",
        "team3 = [2, 'b', 77, '4©']\n",
        "team4 = [3, 'd', 66, '1$']\n",
        "```\n",
        "\n"
      ]
    },
    {
      "cell_type": "code",
      "execution_count": 2,
      "metadata": {
        "colab": {
          "base_uri": "https://localhost:8080/"
        },
        "id": "qbNyAYTD4qfp",
        "outputId": "e1ff3f2d-2ad1-4aa6-d3ae-9a155270349d"
      },
      "outputs": [
        {
          "output_type": "stream",
          "name": "stdout",
          "text": [
            "team1 = [3, 'a', 99, '1$']\n",
            "team2 = [2, 'b', 88, '3%']\n",
            "team3 = [4, 'd', 66, '2&']\n",
            "team4 = [2, 'c', 77, '3%']\n"
          ]
        }
      ],
      "source": [
        "num_teams = 4\n",
        "teams = []\n",
        "\n",
        "\n",
        "for i in range(num_teams):\n",
        "\n",
        "    team = [random.choice(level1_list),\n",
        "            random.choice(level2_list),\n",
        "            random.choice(level3_list),\n",
        "            random.choice(level4_list)]\n",
        "\n",
        "\n",
        "    teams.append(team)\n",
        "\n",
        "for i, team in enumerate(teams, 1):\n",
        "    print(f\"team{i} = {team}\")"
      ]
    },
    {
      "cell_type": "code",
      "source": [],
      "metadata": {
        "id": "UAQJugFA5b-4"
      },
      "execution_count": null,
      "outputs": []
    }
  ],
  "metadata": {
    "kernelspec": {
      "display_name": "pubmed",
      "language": "python",
      "name": "python3"
    },
    "language_info": {
      "name": "python",
      "version": "3.11.9"
    },
    "colab": {
      "provenance": []
    }
  },
  "nbformat": 4,
  "nbformat_minor": 0
}